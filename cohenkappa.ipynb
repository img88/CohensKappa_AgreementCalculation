{
 "cells": [
  {
   "cell_type": "code",
   "execution_count": 3,
   "metadata": {},
   "outputs": [],
   "source": [
    "from sklearn.metrics import cohen_kappa_score\n",
    "import pandas as pd"
   ]
  },
  {
   "attachments": {},
   "cell_type": "markdown",
   "metadata": {},
   "source": [
    "# Measure consistency with cohen's kappa"
   ]
  },
  {
   "cell_type": "code",
   "execution_count": 4,
   "metadata": {},
   "outputs": [
    {
     "name": "stdout",
     "output_type": "stream",
     "text": [
      "Sheet index:  0\n",
      "Cohen’s Kappa value 1:  1.0\n",
      "Cohen’s Kappa value 2:  1.0\n",
      "Sheet index:  1\n",
      "Cohen’s Kappa value 1:  1.0\n",
      "Cohen’s Kappa value 2:  1.0\n",
      "Sheet index:  2\n",
      "Cohen’s Kappa value 1:  1.0\n",
      "Cohen’s Kappa value 2:  1.0\n",
      "Sheet index:  3\n",
      "Cohen’s Kappa value 1:  0.7119539126260201\n",
      "Cohen’s Kappa value 2:  1.0\n",
      "Sheet index:  4\n",
      "Cohen’s Kappa value 1:  0.8075998075998077\n",
      "Cohen’s Kappa value 2:  0.9845440494590417\n",
      "Sheet index:  5\n",
      "Cohen’s Kappa value 1:  0.4923857868020305\n",
      "Cohen’s Kappa value 2:  0.983211617560648\n",
      "Sheet Not Found, finish at index 5\n"
     ]
    }
   ],
   "source": [
    "for sheet_index in range(11):\n",
    "    try:\n",
    "        df = pd.read_excel('all overlap tweet.xlsx', sheet_name=sheet_index)\n",
    "\n",
    "        if len(df) == 0:\n",
    "            print(\"sheet index \", sheet_index, \"0 data\")\n",
    "            pass\n",
    "\n",
    "        else:\n",
    "            print(\"Sheet index: \", sheet_index)\n",
    "\n",
    "            df.drop([0], inplace=True)\n",
    "            df.dropna(inplace=True)\n",
    "\n",
    "            df.columns = range(df.columns.size)\n",
    "            df.T.reset_index(drop=True).T\n",
    "            df.columns = range(df.shape[1])\n",
    "\n",
    "            df[2] = df[2].str.strip().str.title()\n",
    "            df[3] = df[3].str.strip().str.title()\n",
    "            df[4] = df[4].str.strip().str.title()\n",
    "            df[5] = df[5].str.strip().str.title()\n",
    "\n",
    "            df.rename(columns={0: \"No\", 1: \"Tweet\", 2: \"A1\", 3: \"A2\", 4: \"B1\", 5: \"B2\"}, inplace=True)\n",
    "\n",
    "            mapping = {'Ya': 1, 'Tidak': 0, 'Netral': 1, 'Positif': 2, 'Negatif': 0}\n",
    "\n",
    "            df.replace({'A1': mapping, 'A2': mapping, 'B1': mapping, 'B2': mapping}, inplace=True)\n",
    "\n",
    "            rater1 = df['A1'].tolist()\n",
    "            rater2 = df['B1'].tolist()\n",
    "\n",
    "            raterA = df['A2'].tolist()\n",
    "            raterB = df['B2'].tolist()\n",
    "            # print(rater1)\n",
    "            # print(rater2)\n",
    "            cohens12 = cohen_kappa_score(rater1, rater2)\n",
    "            cohensAB = cohen_kappa_score(raterA, raterB)\n",
    "            print(\"Cohen’s Kappa value 1: \", cohens12)\n",
    "            print(\"Cohen’s Kappa value 2: \", cohensAB)\n",
    "            \n",
    "    except:\n",
    "        print(\"Sheet Not Found, finish at index\", sheet_index - 1)\n",
    "        break\n"
   ]
  }
 ],
 "metadata": {
  "kernelspec": {
   "display_name": "Python 3",
   "language": "python",
   "name": "python3"
  },
  "language_info": {
   "codemirror_mode": {
    "name": "ipython",
    "version": 3
   },
   "file_extension": ".py",
   "mimetype": "text/x-python",
   "name": "python",
   "nbconvert_exporter": "python",
   "pygments_lexer": "ipython3",
   "version": "3.7.11"
  },
  "orig_nbformat": 4,
  "vscode": {
   "interpreter": {
    "hash": "d14f4fa2b9f29ea8d02710ce1c9f264676758779180cde93fd78e85da2da61ff"
   }
  }
 },
 "nbformat": 4,
 "nbformat_minor": 2
}
